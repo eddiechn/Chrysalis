{
 "cells": [
  {
   "cell_type": "code",
   "execution_count": 2,
   "metadata": {},
   "outputs": [],
   "source": [
    "from transformers import MarianMTModel, MarianTokenizer\n",
    "import pandas as pd\n",
    "import concurrent.futures\n",
    "from tqdm import tqdm"
   ]
  },
  {
   "cell_type": "code",
   "execution_count": 3,
   "metadata": {},
   "outputs": [
    {
     "data": {
      "text/html": [
       "<div>\n",
       "<style scoped>\n",
       "    .dataframe tbody tr th:only-of-type {\n",
       "        vertical-align: middle;\n",
       "    }\n",
       "\n",
       "    .dataframe tbody tr th {\n",
       "        vertical-align: top;\n",
       "    }\n",
       "\n",
       "    .dataframe thead th {\n",
       "        text-align: right;\n",
       "    }\n",
       "</style>\n",
       "<table border=\"1\" class=\"dataframe\">\n",
       "  <thead>\n",
       "    <tr style=\"text-align: right;\">\n",
       "      <th></th>\n",
       "      <th>s1</th>\n",
       "      <th>s2</th>\n",
       "      <th>similarity</th>\n",
       "    </tr>\n",
       "  </thead>\n",
       "  <tbody>\n",
       "    <tr>\n",
       "      <th>0</th>\n",
       "      <td>During a particularly stressful week, I made s...</td>\n",
       "      <td>When I feel stressed, I find that stepping awa...</td>\n",
       "      <td>1.00</td>\n",
       "    </tr>\n",
       "    <tr>\n",
       "      <th>1</th>\n",
       "      <td>During a particularly stressful week, I made s...</td>\n",
       "      <td>I often find that I can manage my stress by ta...</td>\n",
       "      <td>0.75</td>\n",
       "    </tr>\n",
       "    <tr>\n",
       "      <th>2</th>\n",
       "      <td>During a particularly stressful week, I made s...</td>\n",
       "      <td>I cope with overwhelming feelings by journalin...</td>\n",
       "      <td>0.50</td>\n",
       "    </tr>\n",
       "    <tr>\n",
       "      <th>3</th>\n",
       "      <td>During a particularly stressful week, I made s...</td>\n",
       "      <td>I like to unwind by listening to music and ref...</td>\n",
       "      <td>0.25</td>\n",
       "    </tr>\n",
       "    <tr>\n",
       "      <th>4</th>\n",
       "      <td>During a particularly stressful week, I made s...</td>\n",
       "      <td>I recently started a new hobby that involves p...</td>\n",
       "      <td>0.00</td>\n",
       "    </tr>\n",
       "  </tbody>\n",
       "</table>\n",
       "</div>"
      ],
      "text/plain": [
       "                                                  s1  \\\n",
       "0  During a particularly stressful week, I made s...   \n",
       "1  During a particularly stressful week, I made s...   \n",
       "2  During a particularly stressful week, I made s...   \n",
       "3  During a particularly stressful week, I made s...   \n",
       "4  During a particularly stressful week, I made s...   \n",
       "\n",
       "                                                  s2  similarity  \n",
       "0  When I feel stressed, I find that stepping awa...        1.00  \n",
       "1  I often find that I can manage my stress by ta...        0.75  \n",
       "2  I cope with overwhelming feelings by journalin...        0.50  \n",
       "3  I like to unwind by listening to music and ref...        0.25  \n",
       "4  I recently started a new hobby that involves p...        0.00  "
      ]
     },
     "execution_count": 3,
     "metadata": {},
     "output_type": "execute_result"
    }
   ],
   "source": [
    "data = pd.read_csv('Mental Health Training.csv')\n",
    "data.head()"
   ]
  },
  {
   "cell_type": "code",
   "execution_count": 4,
   "metadata": {},
   "outputs": [],
   "source": [
    "def load_models():\n",
    "    model_name_en_fr = \"Helsinki-NLP/opus-mt-en-fr\"\n",
    "    model_name_fr_en = \"Helsinki-NLP/opus-mt-fr-en\"\n",
    "    \n",
    "    tokenizer_en_fr = MarianTokenizer.from_pretrained(model_name_en_fr)\n",
    "    model_en_fr = MarianMTModel.from_pretrained(model_name_en_fr)\n",
    "    \n",
    "    tokenizer_fr_en = MarianTokenizer.from_pretrained(model_name_fr_en)\n",
    "    model_fr_en = MarianMTModel.from_pretrained(model_name_fr_en)\n",
    "    \n",
    "    return tokenizer_en_fr, model_en_fr, tokenizer_fr_en, model_fr_en"
   ]
  },
  {
   "cell_type": "code",
   "execution_count": 5,
   "metadata": {},
   "outputs": [],
   "source": [
    "def back_translate(text, tokenizer_en_fr, model_en_fr, tokenizer_fr_en, model_fr_en):\n",
    "    # Translate to French\n",
    "    tokens = tokenizer_en_fr(text, return_tensors=\"pt\", padding=True, truncation=True)\n",
    "    translated = model_en_fr.generate(**tokens)\n",
    "    french_text = tokenizer_en_fr.batch_decode(translated, skip_special_tokens=True)[0]\n",
    "    \n",
    "    # Translate back to English\n",
    "    tokens_back = tokenizer_fr_en(french_text, return_tensors=\"pt\", padding=True, truncation=True)\n",
    "    back_translated = model_fr_en.generate(**tokens_back)\n",
    "    english_text = tokenizer_fr_en.batch_decode(back_translated, skip_special_tokens=True)[0]\n",
    "    \n",
    "    return english_text"
   ]
  },
  {
   "cell_type": "code",
   "execution_count": 6,
   "metadata": {},
   "outputs": [
    {
     "name": "stderr",
     "output_type": "stream",
     "text": [
      "/Users/eddiechen/Developer/Chrysalis Model/lib/python3.10/site-packages/transformers/tokenization_utils_base.py:1617: FutureWarning: `clean_up_tokenization_spaces` was not set. It will be set to `True` by default. This behavior will be deprecated in transformers v4.45, and will be then set to `False` by default. For more details check this issue: https://github.com/huggingface/transformers/issues/31884\n",
      "  warnings.warn(\n"
     ]
    }
   ],
   "source": [
    "tokenizer_en_fr, model_en_fr, tokenizer_fr_en, model_fr_en = load_models()"
   ]
  },
  {
   "cell_type": "code",
   "execution_count": 7,
   "metadata": {},
   "outputs": [
    {
     "data": {
      "text/plain": [
       "'My name is Eddie, I love food!'"
      ]
     },
     "execution_count": 7,
     "metadata": {},
     "output_type": "execute_result"
    }
   ],
   "source": [
    "back_translate(\"My name is Eddie. I love food!\", tokenizer_en_fr, model_en_fr, tokenizer_fr_en, model_fr_en)"
   ]
  },
  {
   "cell_type": "code",
   "execution_count": 8,
   "metadata": {},
   "outputs": [],
   "source": [
    "def process_s2_rows(row, tokenizer_en_fr, model_en_fr, tokenizer_fr_en, model_fr_en):\n",
    "    augmented_s2 = back_translate(row['s2'], tokenizer_en_fr, model_en_fr, tokenizer_fr_en, model_fr_en)\n",
    "    return {\"s1\": row['s1'], \"s2\": augmented_s2, \"similarity\": row['similarity']}"
   ]
  },
  {
   "cell_type": "code",
   "execution_count": 9,
   "metadata": {},
   "outputs": [
    {
     "name": "stdout",
     "output_type": "stream",
     "text": [
      "27402\n"
     ]
    },
    {
     "name": "stderr",
     "output_type": "stream",
     "text": [
      "Processing rows: 100%|██████████| 27402/27402 [16:20:47<00:00,  2.15s/it]     \n"
     ]
    }
   ],
   "source": [
    "augmented_data = []\n",
    "total_rows = len(data)\n",
    "\n",
    "print(total_rows)\n",
    "\n",
    "with concurrent.futures.ThreadPoolExecutor(max_workers=8) as executor:\n",
    "    futures = [\n",
    "        executor.submit(process_s2_rows, row, tokenizer_en_fr, model_en_fr, tokenizer_fr_en, model_fr_en)\n",
    "        for _, row in data.iterrows()\n",
    "    ]\n",
    "    \n",
    "    # Use tqdm to show the progress bar\n",
    "    for future in tqdm(concurrent.futures.as_completed(futures), total=total_rows, desc=\"Processing rows\"):\n",
    "        augmented_data.append(future.result())"
   ]
  },
  {
   "cell_type": "code",
   "execution_count": 10,
   "metadata": {},
   "outputs": [],
   "source": [
    "# Convert augmented data back to a DataFrame\n",
    "augmented_df = pd.DataFrame(augmented_data)\n",
    "\n",
    "# Save augmented dataset if needed\n",
    "augmented_df.to_csv('augmented_dataset.csv')"
   ]
  }
 ],
 "metadata": {
  "kernelspec": {
   "display_name": "Chrysalis Model",
   "language": "python",
   "name": "python3"
  },
  "language_info": {
   "codemirror_mode": {
    "name": "ipython",
    "version": 3
   },
   "file_extension": ".py",
   "mimetype": "text/x-python",
   "name": "python",
   "nbconvert_exporter": "python",
   "pygments_lexer": "ipython3",
   "version": "3.10.14"
  }
 },
 "nbformat": 4,
 "nbformat_minor": 2
}
